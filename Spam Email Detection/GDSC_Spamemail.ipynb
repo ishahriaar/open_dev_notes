{
 "cells": [
  {
   "cell_type": "markdown",
   "id": "198fa99e-1e11-49d2-936f-f25832a164ea",
   "metadata": {},
   "source": [
    "# Libraries Required\n"
   ]
  },
  {
   "cell_type": "markdown",
   "id": "3c0192a9-9efe-4f50-86b2-eaa300cd2aa4",
   "metadata": {},
   "source": [
    "# NLTK(Natural Language Toolkit), Numpy, Pandas, Scikit Learn"
   ]
  },
  {
   "cell_type": "code",
   "execution_count": 24,
   "id": "ca87cfe6-0942-4481-a6b1-bc9912a3bb92",
   "metadata": {},
   "outputs": [],
   "source": [
    "import numpy as np\n",
    "import pandas as pd"
   ]
  },
  {
   "cell_type": "code",
   "execution_count": 25,
   "id": "35c677f9-6e3b-4381-94a9-d8b143cb42ae",
   "metadata": {},
   "outputs": [],
   "source": [
    "from nltk.tokenize import RegexpTokenizer, word_tokenize\n",
    "from nltk.stem import PorterStemmer\n",
    "from nltk.corpus import stopwords\n"
   ]
  },
  {
   "cell_type": "code",
   "execution_count": 26,
   "id": "53bd6067-4954-410e-b3d2-ccc125cf945c",
   "metadata": {},
   "outputs": [],
   "source": [
    "from sklearn.preprocessing import LabelEncoder\n",
    "from sklearn.feature_extraction.text import CountVectorizer\n",
    "from sklearn.model_selection import train_test_split\n",
    " "
   ]
  },
  {
   "cell_type": "code",
   "execution_count": 27,
   "id": "939962f3-3ef4-4e9d-9762-ead23bf43ad1",
   "metadata": {},
   "outputs": [],
   "source": [
    "df= pd.read_csv('./email spam.csv',encoding='ISO-8859-1') #creating a datframe\n",
    "le=LabelEncoder()"
   ]
  },
  {
   "cell_type": "code",
   "execution_count": 28,
   "id": "830e7182-ac5d-4c1a-9d9f-42ee9de4a9ad",
   "metadata": {},
   "outputs": [],
   "source": [
    "data=df.to_numpy() #creturn a NumPy ndarray representing the values in given Series or Index."
   ]
  },
  {
   "cell_type": "markdown",
   "id": "26053179-0d44-438c-ae68-2ea28399923f",
   "metadata": {
    "tags": []
   },
   "source": [
    "# Slicing the array to get the message of mail and the prediction of Spam or not\n"
   ]
  },
  {
   "cell_type": "code",
   "execution_count": 29,
   "id": "84e39955-e2b1-4227-9fc1-8b76f85b8f33",
   "metadata": {},
   "outputs": [],
   "source": [
    "mail=data[:,1]\n",
    "prediction=data[:,0]"
   ]
  },
  {
   "cell_type": "code",
   "execution_count": 30,
   "id": "4edde251-fc99-4561-98af-96e92c6c1f64",
   "metadata": {},
   "outputs": [],
   "source": [
    "# importing the tokenizer, Stop Words and Stemmer to clean up the data\n",
    "tokenizer=RegexpTokenizer('\\w+')\n",
    "sw=set(stopwords.words('english'))\n",
    "ps=PorterStemmer()\n",
    "\n"
   ]
  },
  {
   "cell_type": "markdown",
   "id": "4aed6d28-9720-4fe4-b2f6-21f74822bb04",
   "metadata": {},
   "source": [
    "# custom functions to clean up the data into smaller portions words and removing the insignificant (Stop Words)"
   ]
  },
  {
   "cell_type": "code",
   "execution_count": 31,
   "id": "cdba2b04-8420-4aa5-97e5-71dd4bc18e83",
   "metadata": {},
   "outputs": [],
   "source": [
    "def getStem(doc):\n",
    "    doc=doc.lower()\n",
    "    tokens=tokenizer.tokenize(doc) #breaking into small words\n",
    "    removed_stopwords=[w for w in tokens if w not in sw]\n",
    "    stemmed_words=[ps.stem(token) for token in removed_stopwords]\n",
    "    clean_doc=' '.join(stemmed_words)\n",
    "    return clean_doc"
   ]
  },
  {
   "cell_type": "code",
   "execution_count": 32,
   "id": "e9479ed8-c500-43ce-b070-2f7c0ba55501",
   "metadata": {},
   "outputs": [],
   "source": [
    "def getDoc(document):\n",
    "    d=[]\n",
    "    for doc in document:\n",
    "        d.append(getStem(doc))\n",
    "    return d"
   ]
  },
  {
   "cell_type": "code",
   "execution_count": 33,
   "id": "02dd51da-49c3-4e51-af69-cf2b71068c44",
   "metadata": {},
   "outputs": [],
   "source": [
    "stemmed_doc=getDoc(mail)"
   ]
  },
  {
   "cell_type": "code",
   "execution_count": 34,
   "id": "58eac4ac-6432-4668-97be-068e55a3f3f6",
   "metadata": {},
   "outputs": [],
   "source": [
    "cv = CountVectorizer() # it is the method to convert the text into Numerical data which will be uses to create a VECTOR (BAGofWORDS) "
   ]
  },
  {
   "cell_type": "markdown",
   "id": "7d343b93-8b01-413d-860f-e6ce3a4b44b9",
   "metadata": {},
   "source": [
    "# Creating Vocabulary"
   ]
  },
  {
   "cell_type": "code",
   "execution_count": 35,
   "id": "d4b1bf4a-3eca-4ea5-9f71-693ac5ef95dc",
   "metadata": {},
   "outputs": [],
   "source": [
    "vc=cv.fit_transform(stemmed_doc) #fit_transform to train the model"
   ]
  },
  {
   "cell_type": "code",
   "execution_count": 36,
   "id": "9d911832-b3d1-4e6a-85ab-7bf9f724ead4",
   "metadata": {},
   "outputs": [],
   "source": [
    "mail=vc.toarray()"
   ]
  },
  {
   "cell_type": "code",
   "execution_count": 37,
   "id": "059a8d65-a9d4-4a8d-a4da-ba744979e115",
   "metadata": {},
   "outputs": [],
   "source": [
    "X_train, X_test, y_train, y_test = train_test_split(\n",
    "...     mail, prediction, test_size=0.323, random_state=42) #train_test_split is used to estimate the performance of machine learning algorithms that are applicable for prediction-based"
   ]
  },
  {
   "cell_type": "code",
   "execution_count": 38,
   "id": "9049b92f-e760-44d0-9919-446c51cb3691",
   "metadata": {},
   "outputs": [
    {
     "data": {
      "text/plain": [
       "\u001b[0;31mSignature:\u001b[0m\n",
       "\u001b[0mtrain_test_split\u001b[0m\u001b[0;34m(\u001b[0m\u001b[0;34m\u001b[0m\n",
       "\u001b[0;34m\u001b[0m    \u001b[0;34m*\u001b[0m\u001b[0marrays\u001b[0m\u001b[0;34m,\u001b[0m\u001b[0;34m\u001b[0m\n",
       "\u001b[0;34m\u001b[0m    \u001b[0mtest_size\u001b[0m\u001b[0;34m=\u001b[0m\u001b[0;32mNone\u001b[0m\u001b[0;34m,\u001b[0m\u001b[0;34m\u001b[0m\n",
       "\u001b[0;34m\u001b[0m    \u001b[0mtrain_size\u001b[0m\u001b[0;34m=\u001b[0m\u001b[0;32mNone\u001b[0m\u001b[0;34m,\u001b[0m\u001b[0;34m\u001b[0m\n",
       "\u001b[0;34m\u001b[0m    \u001b[0mrandom_state\u001b[0m\u001b[0;34m=\u001b[0m\u001b[0;32mNone\u001b[0m\u001b[0;34m,\u001b[0m\u001b[0;34m\u001b[0m\n",
       "\u001b[0;34m\u001b[0m    \u001b[0mshuffle\u001b[0m\u001b[0;34m=\u001b[0m\u001b[0;32mTrue\u001b[0m\u001b[0;34m,\u001b[0m\u001b[0;34m\u001b[0m\n",
       "\u001b[0;34m\u001b[0m    \u001b[0mstratify\u001b[0m\u001b[0;34m=\u001b[0m\u001b[0;32mNone\u001b[0m\u001b[0;34m,\u001b[0m\u001b[0;34m\u001b[0m\n",
       "\u001b[0;34m\u001b[0m\u001b[0;34m)\u001b[0m\u001b[0;34m\u001b[0m\u001b[0;34m\u001b[0m\u001b[0m\n",
       "\u001b[0;31mDocstring:\u001b[0m\n",
       "Split arrays or matrices into random train and test subsets.\n",
       "\n",
       "Quick utility that wraps input validation and\n",
       "``next(ShuffleSplit().split(X, y))`` and application to input data\n",
       "into a single call for splitting (and optionally subsampling) data in a\n",
       "oneliner.\n",
       "\n",
       "Read more in the :ref:`User Guide <cross_validation>`.\n",
       "\n",
       "Parameters\n",
       "----------\n",
       "*arrays : sequence of indexables with same length / shape[0]\n",
       "    Allowed inputs are lists, numpy arrays, scipy-sparse\n",
       "    matrices or pandas dataframes.\n",
       "\n",
       "test_size : float or int, default=None\n",
       "    If float, should be between 0.0 and 1.0 and represent the proportion\n",
       "    of the dataset to include in the test split. If int, represents the\n",
       "    absolute number of test samples. If None, the value is set to the\n",
       "    complement of the train size. If ``train_size`` is also None, it will\n",
       "    be set to 0.25.\n",
       "\n",
       "train_size : float or int, default=None\n",
       "    If float, should be between 0.0 and 1.0 and represent the\n",
       "    proportion of the dataset to include in the train split. If\n",
       "    int, represents the absolute number of train samples. If None,\n",
       "    the value is automatically set to the complement of the test size.\n",
       "\n",
       "random_state : int, RandomState instance or None, default=None\n",
       "    Controls the shuffling applied to the data before applying the split.\n",
       "    Pass an int for reproducible output across multiple function calls.\n",
       "    See :term:`Glossary <random_state>`.\n",
       "\n",
       "shuffle : bool, default=True\n",
       "    Whether or not to shuffle the data before splitting. If shuffle=False\n",
       "    then stratify must be None.\n",
       "\n",
       "stratify : array-like, default=None\n",
       "    If not None, data is split in a stratified fashion, using this as\n",
       "    the class labels.\n",
       "    Read more in the :ref:`User Guide <stratification>`.\n",
       "\n",
       "Returns\n",
       "-------\n",
       "splitting : list, length=2 * len(arrays)\n",
       "    List containing train-test split of inputs.\n",
       "\n",
       "    .. versionadded:: 0.16\n",
       "        If the input is sparse, the output will be a\n",
       "        ``scipy.sparse.csr_matrix``. Else, output type is the same as the\n",
       "        input type.\n",
       "\n",
       "Examples\n",
       "--------\n",
       ">>> import numpy as np\n",
       ">>> from sklearn.model_selection import train_test_split\n",
       ">>> X, y = np.arange(10).reshape((5, 2)), range(5)\n",
       ">>> X\n",
       "array([[0, 1],\n",
       "       [2, 3],\n",
       "       [4, 5],\n",
       "       [6, 7],\n",
       "       [8, 9]])\n",
       ">>> list(y)\n",
       "[0, 1, 2, 3, 4]\n",
       "\n",
       ">>> X_train, X_test, y_train, y_test = train_test_split(\n",
       "...     X, y, test_size=0.33, random_state=42)\n",
       "...\n",
       ">>> X_train\n",
       "array([[4, 5],\n",
       "       [0, 1],\n",
       "       [6, 7]])\n",
       ">>> y_train\n",
       "[2, 0, 3]\n",
       ">>> X_test\n",
       "array([[2, 3],\n",
       "       [8, 9]])\n",
       ">>> y_test\n",
       "[1, 4]\n",
       "\n",
       ">>> train_test_split(y, shuffle=False)\n",
       "[[0, 1, 2], [3, 4]]\n",
       "\u001b[0;31mFile:\u001b[0m      ~/opt/anaconda3/lib/python3.9/site-packages/sklearn/model_selection/_split.py\n",
       "\u001b[0;31mType:\u001b[0m      function\n"
      ]
     },
     "metadata": {},
     "output_type": "display_data"
    }
   ],
   "source": [
    "train_test_split?"
   ]
  },
  {
   "cell_type": "markdown",
   "id": "b4af24c7-ec54-4c42-9017-4cb61b70f5fe",
   "metadata": {},
   "source": [
    "# Naive Bayes from Sklearn\n"
   ]
  },
  {
   "cell_type": "code",
   "execution_count": 16,
   "id": "80f59b9d-b44b-4257-a6aa-89c4a54bdae3",
   "metadata": {},
   "outputs": [],
   "source": [
    "from sklearn.naive_bayes import MultinomialNB "
   ]
  },
  {
   "cell_type": "code",
   "execution_count": 17,
   "id": "57ba291c-2a6c-40dc-9f00-0072262a3aba",
   "metadata": {},
   "outputs": [
    {
     "data": {
      "text/plain": [
       "0.9777777777777777"
      ]
     },
     "execution_count": 17,
     "metadata": {},
     "output_type": "execute_result"
    }
   ],
   "source": [
    "model=MultinomialNB() #multinomialNB uses Naive Baye's and Baye's Theorem for probability, \n",
    "#it calculates the likelihood of given sample happening \n",
    "model.fit(X_train,y_train)\n",
    "model.score(X_test,y_test) #checks probabilty of accuracy"
   ]
  },
  {
   "cell_type": "markdown",
   "id": "3c0c0485-d4eb-46e2-8732-ef621c956272",
   "metadata": {},
   "source": [
    "# Custom message check"
   ]
  },
  {
   "cell_type": "code",
   "execution_count": 18,
   "id": "4155acbc-6735-4f87-ab4f-31cc18c30b00",
   "metadata": {},
   "outputs": [],
   "source": [
    "from sklearn.linear_model import LogisticRegression"
   ]
  },
  {
   "cell_type": "code",
   "execution_count": 19,
   "id": "dd7267dc-7eb9-4fc5-8542-80651757aeab",
   "metadata": {},
   "outputs": [],
   "source": [
    "def prepare(messages):\n",
    "    d=getDoc(messages)\n",
    "    #not fit_transform because creates new vocab only transform\n",
    "    \n",
    "    return cv.transform(d)"
   ]
  },
  {
   "cell_type": "code",
   "execution_count": 20,
   "id": "6fb74b42-837d-487a-8c03-a69327bb5712",
   "metadata": {},
   "outputs": [],
   "source": [
    "messages=[\"\"\"\n",
    "\n",
    "Dear Customer,\n",
    " \n",
    "The last time I wrote to you was when India was in the middle of a difficult COVID wave. Telecom was essential to help you lead your life. Be it working from home, studying from home, being entertained or shopping online, our people were proud to serve you at that time of need.\n",
    " \n",
    "Today, however, I am excited to be writing to you under happier circumstances. Within a few weeks, we will commence the launch of our next generation technology, Airtel 5G. Some of you have asked me questions about what 5G will do for you and how you can get it. Let me try and answer these questions for you.\n",
    " \n",
    "1. What will Airtel 5G do for you?\n",
    " \n",
    "Airtel 5G will deliver dramatically higher speeds compared to a 4G network. It could be anywhere between 20 to 30 times the speed you get today. This will allow you to boot up an application or download a heavy file in no time.\n",
    " \n",
    "Airtel 5G will also enable differential quality for special requirements, something called network slicing. So, if you are a gamer, and want a flawless experience, we will be able to slice the network for you. Or if you are working from home and want a consistent experience, we will deliver it for you.\n",
    " \n",
    "2. Why is Airtel 5G the best for you?\n",
    " \n",
    "The Airtel 5G network is being built keeping in mind your smartphone and you. So there are three clear advantages.\n",
    " \n",
    "First, of the two 5G technologies, we have chosen a specific 5G technology that has the widest eco-system in the world. This means that all 5G smartphones in India will work on the Airtel network without any glitch. This will be true even when you travel abroad with your Airtel 5G enabled phone. In other technologies, it is possible that as many as four out of ten 5G phones don't support 5G.\n",
    " \n",
    "Second, we are confident of raising the bar on the experience we deliver to you. Over the last few years, our 4G network has been consistently rated the best in speed, video and gaming experience by independent rating agencies. We have used this strength to bring the expertise of our best engineers, built state-of-the-art tools and conducted numerous first-of-its-kind trials across several cities and use cases to ensure that your Airtel 5G experience is incomparable.\n",
    " \n",
    "Finally, we will be kinder to the environment. All of us are now struggling with extreme heat and unpredictable rains caused by climate change. This problem is now real. So we have signed on to an ambitious goal of lowering our carbon footprint in the next few decades. As a result, the 5G solution we have chosen will be the most energy and carbon efficient in India.\n",
    " \n",
    "3. When can you start experiencing 5G?\n",
    " \n",
    "We expect to launch our 5G services within a month. By December, we should have coverage in the key metros. After that we will expand rapidly to cover the entire country. We expect to cover all of urban India by the end of 2023. If you want to know the availability of 5G in your town, you will be able to check it on the Airtel Thanks App and see whether your phone and city is 5G ready. This feature will be available on our app with the 5G launch.\n",
    " \n",
    "4. Three easy steps for you to access Airtel 5G:\n",
    " \n",
    "Most smartphones that are more than a year old do not have a 5G chipset. However, new smartphones that are now in India are mostly 5G enabled. So, if you are buying a new smartphone, do check whether it is 5G enabled.\n",
    " \n",
    "Then enable 5G settings. In order to enable 5G on your phone, go to the settings tab and get to connections or mobile network. You will be shown a choice to pick 5G in addition to 4G or LTE. Select that mode and you are ready.\n",
    " \n",
    "Your Airtel SIM is already 5G enabled. So it will work seamlessly on your 5G smart phone.\n",
    " \n",
    "I look forward to any suggestions or feedback that you may have and thank you for giving us the privilege to serve you.\n",
    " \n",
    "Sincerely,\n",
    " \n",
    "Gopal Vittal\n",
    "CEO Airtel\"\"\",\n",
    "         \n",
    " \"\"\"Hello,\n",
    "\n",
    "It is sometimes said that the language we speak affects the way we think and see the world. That’s why it can be interesting to see what it looks like in other languages and to find the missing word that could change everything for us!\n",
    "\n",
    "At this time of year, the word “rentrée” crops up a lot in France. This French noun literally means “return”, but, in this instance, refers to the start of September. The long summer vacation is over and it's time to go back to work, back to the office, back to school and normal life. \"La rentrée\" is a time for excited anticipation at the opportunities that lie ahead.\n",
    "\n",
    "It is so significant that it has its own name – there is no equivalent word in English to express this feeling. But still, isn’t “rentrée” a strange word? Of course, it does not mean the same thing to everyone, but generally speaking, it implies to restart, to renew, to re-establish...\n",
    "\n",
    "Our suggestion for this new month of September, then, is to break out of this cycle of getting back to it and to change our outlook: instead of a return, a restart, what if we were just getting ready for a simple start? The start of a new season, of a new energy, going on a path never taken before.\n",
    "\n",
    "We will live each day of this new start only once, so let us enjoy the good days, and be relieved that the bad days are a one-off!\n",
    "\n",
    "Meditating on the road\n",
    "What do you usually do when you are on public transport? Do you read? Talk? Listen to music? Or… look frantically at your phone? We suggest you give meditation a go, just like at home in the quiet, but this time in the noise, in the middle of a crowd!\"\"\"    \n",
    "         \n",
    "        ,  \n",
    "         \n",
    "         \"\"\"First, the surprise!\n",
    "\n",
    "Here's a total of 40 free spins for you to use on our subsidiary casinos:\n",
    "20 FREE spins on PlayBitcoinGames\n",
    "20 FREE spins on PlayPerfectMoneyGames\n",
    "\n",
    "NO new deposit required (only a $1 all-time, which qualifies you for similar codes we send out each month)\n",
    "\n",
    "Stock up on extra BAP by buying Bulk Ads until the end of 31st August:\n",
    "Get 20% extra BAP, 30% if buying with litecoin/bitcoin directly!\n",
    "\n",
    "Don't forget about our amazing cashback offer on MyTrafficValue, by playing any of the games there (only lasts another 2 days):\n",
    "- 100% cashback up to $5 + 20% extra up to $1000 (on any total game losses during event, applied at end of the period)\n",
    "* $300 minimum wagering requirement to qualify\n",
    "\n",
    "Greetings,\n",
    "\n",
    "The PTCshare team\n",
    "https://www.ptcshare.com\"\"\"\n",
    "          ,\n",
    "     \"\"\"\n",
    "Dear Candidate,\n",
    "\n",
    " Hurry up! Registration open for Company Secretary Executive Entrance Test (CSEET) November 2022 session. Last date of Registration is 15th October, 2022. For Registration click on https://smash.icsi.edu/Scripts/CSEET/Instructions_CSEET.aspx.\n",
    "         \"\"\",\n",
    "         \"\"\"We noticed a new sign-in to your Google Account on a Mac device. If this was you, you don’t need to do anything. If not, we’ll help you secure your account.\n",
    "\"\"\"]"
   ]
  },
  {
   "cell_type": "code",
   "execution_count": 21,
   "id": "86a32a29-ce46-46a5-a5a5-c908ede4852d",
   "metadata": {},
   "outputs": [],
   "source": [
    "messages=prepare(messages)"
   ]
  },
  {
   "cell_type": "code",
   "execution_count": 22,
   "id": "96ce5810-96a3-4c9d-ae50-f28f2d436ee2",
   "metadata": {},
   "outputs": [],
   "source": [
    "y_predict=model.predict(messages) #prediction of the model "
   ]
  },
  {
   "cell_type": "code",
   "execution_count": 23,
   "id": "d8dc14cc-7284-4e95-bc6d-075b3da32f62",
   "metadata": {},
   "outputs": [
    {
     "data": {
      "text/plain": [
       "array(['ham', 'ham', 'spam', 'spam', 'ham'], dtype='<U4')"
      ]
     },
     "execution_count": 23,
     "metadata": {},
     "output_type": "execute_result"
    }
   ],
   "source": [
    "y_predict"
   ]
  },
  {
   "cell_type": "code",
   "execution_count": null,
   "id": "0c7b1bde-d05c-4deb-8d0f-521b91d3a49d",
   "metadata": {},
   "outputs": [],
   "source": []
  }
 ],
 "metadata": {
  "kernelspec": {
   "display_name": "Python 3 (ipykernel)",
   "language": "python",
   "name": "python3"
  },
  "language_info": {
   "codemirror_mode": {
    "name": "ipython",
    "version": 3
   },
   "file_extension": ".py",
   "mimetype": "text/x-python",
   "name": "python",
   "nbconvert_exporter": "python",
   "pygments_lexer": "ipython3",
   "version": "3.7.13"
  }
 },
 "nbformat": 4,
 "nbformat_minor": 5
}
